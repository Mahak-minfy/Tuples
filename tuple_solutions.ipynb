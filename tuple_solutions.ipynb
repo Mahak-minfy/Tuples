{
 "cells": [
  {
   "cell_type": "code",
   "execution_count": 1,
   "id": "913c8ae7",
   "metadata": {},
   "outputs": [
    {
     "name": "stdout",
     "output_type": "stream",
     "text": [
      "(2, 1, 4, 3)\n",
      "(2, 1, 3)\n"
     ]
    }
   ],
   "source": [
    "#Tuple Basics\n",
    "def swap_pairs(t):\n",
    "    return tuple(\n",
    "        t[i + 1] if i % 2 == 0 and i + 1 < len(t) else\n",
    "        t[i - 1] if i % 2 == 1 else\n",
    "        t[i]\n",
    "        for i in range(len(t))\n",
    "    )\n",
    "# Example usage:\n",
    "print(swap_pairs((1, 2, 3, 4)))  # Should return (2, 1, 4, 3)\n",
    "print(swap_pairs((1, 2, 3)))     # Should return (2, 1, 3)"
   ]
  },
  {
   "cell_type": "code",
   "execution_count": 2,
   "id": "1f06fc46",
   "metadata": {},
   "outputs": [
    {
     "name": "stdout",
     "output_type": "stream",
     "text": [
      "(1, 5, 15, 3.0)\n"
     ]
    }
   ],
   "source": [
    "#Tuple Unpacking\n",
    "def get_stats(numbers):\n",
    "    if not numbers:\n",
    "        return (None, None, 0, None)\n",
    "    minimum = min(numbers)\n",
    "    maximum = max(numbers)\n",
    "    total = sum(numbers)\n",
    "    average = total / len(numbers)\n",
    "    return (minimum, maximum, total, average)\n",
    "# Example usage:\n",
    "print(get_stats([1, 2, 3, 4, 5]))  # Should return (1, 5, 15, 3.0)\n"
   ]
  },
  {
   "cell_type": "code",
   "execution_count": 5,
   "id": "f78ce58f",
   "metadata": {},
   "outputs": [
    {
     "name": "stdout",
     "output_type": "stream",
     "text": [
      "Student(name='Charlie', age=21, grades=[95, 100])\n"
     ]
    }
   ],
   "source": [
    "# Named Tuples\n",
    "\n",
    "from collections import namedtuple\n",
    "Student = namedtuple('Student', ['name', 'age', 'grades'])\n",
    "def top_student(students):\n",
    "    return max(students, key=lambda s: sum(s.grades) / len(s.grades) if s.grades else float('-inf'))\n",
    "# Example usage:\n",
    "students = [\n",
    "    Student('Alice', 20, [90, 80, 85]),\n",
    "    Student('Bob', 22, [70, 75, 80]),\n",
    "    Student('Charlie', 21, [95, 100])\n",
    "]\n",
    "print(top_student(students))  # Should return Student('Charlie', 21, [95, 100])"
   ]
  },
  {
   "cell_type": "code",
   "execution_count": 6,
   "id": "021b3fd7",
   "metadata": {},
   "outputs": [
    {
     "name": "stdout",
     "output_type": "stream",
     "text": [
      "{(1, 2): 3, (3, 4): 2, (5, 6): 1}\n"
     ]
    }
   ],
   "source": [
    "\n",
    "# Tuple as Keys\n",
    "def count_coordinate_occurrences(coords):\n",
    "    occurrences = {}\n",
    "    for coord in coords:\n",
    "        occurrences[coord] = occurrences.get(coord, 0) + 1\n",
    "    return occurrences\n",
    "# Example usage:\n",
    "coords = [(1, 2), (3, 4), (1, 2), (5, 6), (3, 4), (1, 2)]\n",
    "print(count_coordinate_occurrences(coords))  # Should return {(1, 2): 3, (3, 4): 2, (5, 6): 1}"
   ]
  }
 ],
 "metadata": {
  "kernelspec": {
   "display_name": "Python 3",
   "language": "python",
   "name": "python3"
  },
  "language_info": {
   "codemirror_mode": {
    "name": "ipython",
    "version": 3
   },
   "file_extension": ".py",
   "mimetype": "text/x-python",
   "name": "python",
   "nbconvert_exporter": "python",
   "pygments_lexer": "ipython3",
   "version": "3.11.4"
  }
 },
 "nbformat": 4,
 "nbformat_minor": 5
}
